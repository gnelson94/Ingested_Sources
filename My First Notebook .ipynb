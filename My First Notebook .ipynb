{
 "cells": [
  {
   "cell_type": "code",
   "execution_count": 9,
   "metadata": {
    "collapsed": true
   },
   "outputs": [],
   "source": [
    "import pandas as pd"
   ]
  },
  {
   "cell_type": "code",
   "execution_count": 12,
   "metadata": {
    "collapsed": false
   },
   "outputs": [],
   "source": [
    "feeds = pd.read_csv(\"Feeds - June.26.csv\")"
   ]
  },
  {
   "cell_type": "code",
   "execution_count": 15,
   "metadata": {
    "collapsed": false
   },
   "outputs": [
    {
     "data": {
      "text/html": [
       "<div style=\"max-height:1000px;max-width:1500px;overflow:auto;\">\n",
       "<table border=\"1\" class=\"dataframe\">\n",
       "  <thead>\n",
       "    <tr style=\"text-align: right;\">\n",
       "      <th></th>\n",
       "      <th>Host</th>\n",
       "      <th>Path</th>\n",
       "      <th>URL</th>\n",
       "      <th>Name</th>\n",
       "      <th>Returns</th>\n",
       "      <th>Comments</th>\n",
       "    </tr>\n",
       "  </thead>\n",
       "  <tbody>\n",
       "    <tr>\n",
       "      <th>0</th>\n",
       "      <td>           feeds.feedburner.com</td>\n",
       "      <td>        /TheBanktrackNewsRssFeed</td>\n",
       "      <td>      feeds.feedburner.com/TheBanktrackNewsRssFeed</td>\n",
       "      <td>          Bank Track</td>\n",
       "      <td> NaN</td>\n",
       "      <td> NaN</td>\n",
       "    </tr>\n",
       "    <tr>\n",
       "      <th>1</th>\n",
       "      <td> www.corporatecrimereporter.com</td>\n",
       "      <td>                          /feed/</td>\n",
       "      <td>              www.corporatecrimereporter.com/feed/</td>\n",
       "      <td> Corp Crime Reporter</td>\n",
       "      <td> NaN</td>\n",
       "      <td> NaN</td>\n",
       "    </tr>\n",
       "    <tr>\n",
       "      <th>2</th>\n",
       "      <td>              www.corpwatch.org</td>\n",
       "      <td>            /rssfeed.php?class=1</td>\n",
       "      <td>             www.corpwatch.org/rssfeed.php?class=1</td>\n",
       "      <td>           Corpwatch</td>\n",
       "      <td> NaN</td>\n",
       "      <td> NaN</td>\n",
       "    </tr>\n",
       "    <tr>\n",
       "      <th>3</th>\n",
       "      <td>            goodelectronics.org</td>\n",
       "      <td> /search_rss?SearchableText=news</td>\n",
       "      <td> goodelectronics.org/search_rss?SearchableText=...</td>\n",
       "      <td>    Good Electronics</td>\n",
       "      <td> NaN</td>\n",
       "      <td> NaN</td>\n",
       "    </tr>\n",
       "    <tr>\n",
       "      <th>4</th>\n",
       "      <td>               www.asyousow.org</td>\n",
       "      <td>                          /feed/</td>\n",
       "      <td>                            www.asyousow.org/feed/</td>\n",
       "      <td>          As You Sow</td>\n",
       "      <td> NaN</td>\n",
       "      <td> NaN</td>\n",
       "    </tr>\n",
       "  </tbody>\n",
       "</table>\n",
       "</div>"
      ],
      "text/plain": [
       "                             Host                             Path  \\\n",
       "0            feeds.feedburner.com         /TheBanktrackNewsRssFeed   \n",
       "1  www.corporatecrimereporter.com                           /feed/   \n",
       "2               www.corpwatch.org             /rssfeed.php?class=1   \n",
       "3             goodelectronics.org  /search_rss?SearchableText=news   \n",
       "4                www.asyousow.org                           /feed/   \n",
       "\n",
       "                                                 URL                 Name  \\\n",
       "0       feeds.feedburner.com/TheBanktrackNewsRssFeed           Bank Track   \n",
       "1               www.corporatecrimereporter.com/feed/  Corp Crime Reporter   \n",
       "2              www.corpwatch.org/rssfeed.php?class=1            Corpwatch   \n",
       "3  goodelectronics.org/search_rss?SearchableText=...     Good Electronics   \n",
       "4                             www.asyousow.org/feed/           As You Sow   \n",
       "\n",
       "  Returns Comments  \n",
       "0     NaN      NaN  \n",
       "1     NaN      NaN  \n",
       "2     NaN      NaN  \n",
       "3     NaN      NaN  \n",
       "4     NaN      NaN  "
      ]
     },
     "execution_count": 15,
     "metadata": {},
     "output_type": "execute_result"
    }
   ],
   "source": [
    "feeds.columns\n",
    "feeds.head()"
   ]
  },
  {
   "cell_type": "code",
   "execution_count": 20,
   "metadata": {
    "collapsed": false
   },
   "outputs": [
    {
     "data": {
      "text/plain": [
       "www.ft.com                         36\n",
       "feeds.reuters.com                  18\n",
       "www.cnbc.com                       12\n",
       "feeds.feedburner.com                6\n",
       "www.forbes.com                      5\n",
       "www.economist.com                   5\n",
       "www.theguardian.com                 3\n",
       "www.huffingtonpost.com              3\n",
       "news.google.com                     2\n",
       "www.justice.gov                     2\n",
       "www.prnewswire.com                  2\n",
       "www.sec.gov                         2\n",
       "www.chinalaborwatch.org             2\n",
       "feeds.thestreet.com                 2\n",
       "www.corpwatch.org                   1\n",
       "feeds.business-standard.com         1\n",
       "feeds.foxbusiness.com               1\n",
       "www.corporatecrimereporter.com      1\n",
       "feeds.fastcompany.com               1\n",
       "www.cbsnews.com                     1\n",
       "www.aljazeera.com                   1\n",
       "www.asyousow.org                    1\n",
       "rss.cnn.com                         1\n",
       "www.iuf.org                         1\n",
       "business-humanrights.org            1\n",
       "feeds.survivalinternational.org     1\n",
       "www.forestpeoples.org               1\n",
       "online.wsj.com                      1\n",
       "www.environmentalleader.com         1\n",
       "www.politico.com                    1\n",
       "www.global-unions.org               1\n",
       "www.thestreet.com                   1\n",
       "mashable.com                        1\n",
       "www.rsssearchhub.com                1\n",
       "www.guardian.co.uk                  1\n",
       "feeds.abcnews.com                   1\n",
       "blogs.wsj.com                       1\n",
       "feeds.wired.com                     1\n",
       "feeds.bbci.co.uk                    1\n",
       "www.fool.com                        1\n",
       "www.bloomberg.com                   1\n",
       "feeds.fool.com                      1\n",
       "www.socialfunds.com                 1\n",
       "www.tuaw.com                        1\n",
       "www.wsj.com                         1\n",
       "finance.yahoo.com                   1\n",
       "www.usnews.com                      1\n",
       "recode.net                          1\n",
       "www.alaskawild.org                  1\n",
       "hosted2.ap.org                      1\n",
       "goodelectronics.org                 1\n",
       "www.taf.org                         1\n",
       "feeds.cbsnews.com                   1\n",
       "Length: 53, dtype: int64"
      ]
     },
     "execution_count": 20,
     "metadata": {},
     "output_type": "execute_result"
    }
   ],
   "source": [
    "feeds[\"Host\"].value_counts()"
   ]
  },
  {
   "cell_type": "code",
   "execution_count": null,
   "metadata": {
    "collapsed": true
   },
   "outputs": [],
   "source": []
  }
 ],
 "metadata": {
  "kernelspec": {
   "display_name": "Python 2",
   "language": "python",
   "name": "python2"
  },
  "language_info": {
   "codemirror_mode": {
    "name": "ipython",
    "version": 2
   },
   "file_extension": ".py",
   "mimetype": "text/x-python",
   "name": "python",
   "nbconvert_exporter": "python",
   "pygments_lexer": "ipython2",
   "version": "2.7.10"
  }
 },
 "nbformat": 4,
 "nbformat_minor": 0
}
