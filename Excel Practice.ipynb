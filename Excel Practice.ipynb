{
 "cells": [
  {
   "cell_type": "code",
   "execution_count": 3,
   "metadata": {
    "collapsed": true
   },
   "outputs": [],
   "source": [
    "import pandas as pd"
   ]
  },
  {
   "cell_type": "code",
   "execution_count": 4,
   "metadata": {
    "collapsed": true
   },
   "outputs": [],
   "source": [
    "mfile = pd.ExcelFile (\"Master List v2.xlsx\")"
   ]
  },
  {
   "cell_type": "code",
   "execution_count": 5,
   "metadata": {
    "collapsed": false
   },
   "outputs": [
    {
     "data": {
      "text/plain": [
       "[u'Feeds - June.26.csv',\n",
       " u'Suggested (Phil)',\n",
       " u'NGOs & Other Sources',\n",
       " u'governmental',\n",
       " u'business',\n",
       " u'News Outlets',\n",
       " u\"Graham's Supply Chain Sources\",\n",
       " u'industry',\n",
       " u'academic']"
      ]
     },
     "execution_count": 5,
     "metadata": {},
     "output_type": "execute_result"
    }
   ],
   "source": [
    "mfile.sheet_names"
   ]
  },
  {
   "cell_type": "code",
   "execution_count": 6,
   "metadata": {
    "collapsed": true
   },
   "outputs": [],
   "source": [
    "ngos = mfile.parse(\"NGOs & Other Sources\")"
   ]
  },
  {
   "cell_type": "code",
   "execution_count": 7,
   "metadata": {
    "collapsed": false
   },
   "outputs": [
    {
     "data": {
      "text/html": [
       "<div style=\"max-height:1000px;max-width:1500px;overflow:auto;\">\n",
       "<table border=\"1\" class=\"dataframe\">\n",
       "  <thead>\n",
       "    <tr style=\"text-align: right;\">\n",
       "      <th></th>\n",
       "      <th>Source</th>\n",
       "      <th>ingested?</th>\n",
       "      <th>Information type</th>\n",
       "      <th>RSS</th>\n",
       "      <th>Notes on RRS</th>\n",
       "      <th>Source type</th>\n",
       "      <th>Coverage</th>\n",
       "      <th>Relevance</th>\n",
       "      <th>Notes on relevance</th>\n",
       "      <th>C</th>\n",
       "      <th>...</th>\n",
       "      <th>H</th>\n",
       "      <th>Notes</th>\n",
       "      <th>S</th>\n",
       "      <th>Notes.1</th>\n",
       "      <th>Category</th>\n",
       "      <th>Touch (1-3 Low-High)</th>\n",
       "      <th>Link</th>\n",
       "      <th>News not captured by current media sources</th>\n",
       "      <th>Example of relevant news </th>\n",
       "      <th>Unnamed: 23</th>\n",
       "    </tr>\n",
       "  </thead>\n",
       "  <tbody>\n",
       "    <tr>\n",
       "      <th>0</th>\n",
       "      <td>            Amazon watch</td>\n",
       "      <td>              No</td>\n",
       "      <td>             News</td>\n",
       "      <td> http://amazonwatch.org/aw.rss</td>\n",
       "      <td>     NaN</td>\n",
       "      <td>             NGO</td>\n",
       "      <td> Intl</td>\n",
       "      <td> 3</td>\n",
       "      <td>                   HT, company info, esp. Chevron </td>\n",
       "      <td> 1</td>\n",
       "      <td>...</td>\n",
       "      <td> yes</td>\n",
       "      <td> one-sided stories + emotional language, invest...</td>\n",
       "      <td>  3</td>\n",
       "      <td> own investigations</td>\n",
       "      <td>             Environment, Social Impact</td>\n",
       "      <td> NaN</td>\n",
       "      <td>                       http://amazonwatch.org/news</td>\n",
       "      <td> NaN</td>\n",
       "      <td> http://amazonwatch.org/news/2015/0408-the-chev...</td>\n",
       "      <td> NaN</td>\n",
       "    </tr>\n",
       "    <tr>\n",
       "      <th>1</th>\n",
       "      <td>    International Rivers</td>\n",
       "      <td>              No</td>\n",
       "      <td> News and reports</td>\n",
       "      <td>                           NaN</td>\n",
       "      <td>     NaN</td>\n",
       "      <td>             NGO</td>\n",
       "      <td> Intl</td>\n",
       "      <td> 2</td>\n",
       "      <td> little company mention, good on issues and policy</td>\n",
       "      <td> 1</td>\n",
       "      <td>...</td>\n",
       "      <td> NaN</td>\n",
       "      <td>                                               NaN</td>\n",
       "      <td>NaN</td>\n",
       "      <td>                NaN</td>\n",
       "      <td>             Environment, Social Impact</td>\n",
       "      <td> NaN</td>\n",
       "      <td>   http://www.internationalrivers.org/in-the-media</td>\n",
       "      <td> NaN</td>\n",
       "      <td>                                               NaN</td>\n",
       "      <td> NaN</td>\n",
       "    </tr>\n",
       "    <tr>\n",
       "      <th>2</th>\n",
       "      <td>                    Somo</td>\n",
       "      <td> RSS not working</td>\n",
       "      <td> News and reports</td>\n",
       "      <td>                            No</td>\n",
       "      <td> RSS dnw</td>\n",
       "      <td> Research center</td>\n",
       "      <td>   EU</td>\n",
       "      <td> 1</td>\n",
       "      <td>                                      company info</td>\n",
       "      <td> 1</td>\n",
       "      <td>...</td>\n",
       "      <td> NaN</td>\n",
       "      <td>                                               NaN</td>\n",
       "      <td>NaN</td>\n",
       "      <td>                NaN</td>\n",
       "      <td> Environment,  Social Impact, Workplace</td>\n",
       "      <td> NaN</td>\n",
       "      <td>                http://www.somo.nl/?b_start:int=10</td>\n",
       "      <td> NaN</td>\n",
       "      <td> http://www.somo.nl/news-en/fashion-brand-zara-...</td>\n",
       "      <td> NaN</td>\n",
       "    </tr>\n",
       "    <tr>\n",
       "      <th>3</th>\n",
       "      <td>     Friends of Earth US</td>\n",
       "      <td>      in process</td>\n",
       "      <td> News and reports</td>\n",
       "      <td>                            No</td>\n",
       "      <td>     NaN</td>\n",
       "      <td>             NGO</td>\n",
       "      <td>   US</td>\n",
       "      <td> 1</td>\n",
       "      <td>                  company info, good for US policy</td>\n",
       "      <td> 1</td>\n",
       "      <td>...</td>\n",
       "      <td> NaN</td>\n",
       "      <td>                                               NaN</td>\n",
       "      <td>NaN</td>\n",
       "      <td>                NaN</td>\n",
       "      <td> Environment, Social Impact, Governance</td>\n",
       "      <td> NaN</td>\n",
       "      <td> http://www.foe.org/news/news-releases ; http:/...</td>\n",
       "      <td> NaN</td>\n",
       "      <td> http://www.foe.org/news/news-releases/2015-05-...</td>\n",
       "      <td> NaN</td>\n",
       "    </tr>\n",
       "    <tr>\n",
       "      <th>4</th>\n",
       "      <td> Friends of Earth Europe</td>\n",
       "      <td>              No</td>\n",
       "      <td> News and reports</td>\n",
       "      <td>                           NaN</td>\n",
       "      <td>     NaN</td>\n",
       "      <td>             NGO</td>\n",
       "      <td>   EU</td>\n",
       "      <td> 2</td>\n",
       "      <td>               EU company info, good for EU policy</td>\n",
       "      <td> 1</td>\n",
       "      <td>...</td>\n",
       "      <td> NaN</td>\n",
       "      <td>                                               NaN</td>\n",
       "      <td>NaN</td>\n",
       "      <td>                NaN</td>\n",
       "      <td> Environment, Social Impact, Governance</td>\n",
       "      <td> NaN</td>\n",
       "      <td> https://www.foeeurope.org/news ; https://www.f...</td>\n",
       "      <td> NaN</td>\n",
       "      <td> https://www.foeeurope.org/shell-no-progress-04...</td>\n",
       "      <td> NaN</td>\n",
       "    </tr>\n",
       "  </tbody>\n",
       "</table>\n",
       "<p>5 rows × 24 columns</p>\n",
       "</div>"
      ],
      "text/plain": [
       "                    Source        ingested?  Information type  \\\n",
       "0             Amazon watch               No              News   \n",
       "1     International Rivers               No  News and reports   \n",
       "2                     Somo  RSS not working  News and reports   \n",
       "3      Friends of Earth US       in process  News and reports   \n",
       "4  Friends of Earth Europe               No  News and reports   \n",
       "\n",
       "                             RSS Notes on RRS      Source type Coverage  \\\n",
       "0  http://amazonwatch.org/aw.rss          NaN              NGO     Intl   \n",
       "1                            NaN          NaN              NGO     Intl   \n",
       "2                             No      RSS dnw  Research center       EU   \n",
       "3                             No          NaN              NGO       US   \n",
       "4                            NaN          NaN              NGO       EU   \n",
       "\n",
       "   Relevance                                 Notes on relevance  C  \\\n",
       "0          3                    HT, company info, esp. Chevron   1   \n",
       "1          2  little company mention, good on issues and policy  1   \n",
       "2          1                                       company info  1   \n",
       "3          1                   company info, good for US policy  1   \n",
       "4          2                EU company info, good for EU policy  1   \n",
       "\n",
       "      ...        H                                              Notes   S  \\\n",
       "0     ...      yes  one-sided stories + emotional language, invest...   3   \n",
       "1     ...      NaN                                                NaN NaN   \n",
       "2     ...      NaN                                                NaN NaN   \n",
       "3     ...      NaN                                                NaN NaN   \n",
       "4     ...      NaN                                                NaN NaN   \n",
       "\n",
       "              Notes.1                                Category  \\\n",
       "0  own investigations              Environment, Social Impact   \n",
       "1                 NaN              Environment, Social Impact   \n",
       "2                 NaN  Environment,  Social Impact, Workplace   \n",
       "3                 NaN  Environment, Social Impact, Governance   \n",
       "4                 NaN  Environment, Social Impact, Governance   \n",
       "\n",
       "  Touch (1-3 Low-High)                                               Link  \\\n",
       "0                  NaN                        http://amazonwatch.org/news   \n",
       "1                  NaN    http://www.internationalrivers.org/in-the-media   \n",
       "2                  NaN                 http://www.somo.nl/?b_start:int=10   \n",
       "3                  NaN  http://www.foe.org/news/news-releases ; http:/...   \n",
       "4                  NaN  https://www.foeeurope.org/news ; https://www.f...   \n",
       "\n",
       "  News not captured by current media sources  \\\n",
       "0                                        NaN   \n",
       "1                                        NaN   \n",
       "2                                        NaN   \n",
       "3                                        NaN   \n",
       "4                                        NaN   \n",
       "\n",
       "                           Example of relevant news  Unnamed: 23  \n",
       "0  http://amazonwatch.org/news/2015/0408-the-chev...         NaN  \n",
       "1                                                NaN         NaN  \n",
       "2  http://www.somo.nl/news-en/fashion-brand-zara-...         NaN  \n",
       "3  http://www.foe.org/news/news-releases/2015-05-...         NaN  \n",
       "4  https://www.foeeurope.org/shell-no-progress-04...         NaN  \n",
       "\n",
       "[5 rows x 24 columns]"
      ]
     },
     "execution_count": 7,
     "metadata": {},
     "output_type": "execute_result"
    }
   ],
   "source": [
    "ngos.head()"
   ]
  },
  {
   "cell_type": "code",
   "execution_count": 11,
   "metadata": {
    "collapsed": false
   },
   "outputs": [
    {
     "ename": "SyntaxError",
     "evalue": "invalid syntax (<ipython-input-11-e85b5a0b30bc>, line 1)",
     "output_type": "error",
     "traceback": [
      "\u001b[0;36m  File \u001b[0;32m\"<ipython-input-11-e85b5a0b30bc>\"\u001b[0;36m, line \u001b[0;32m1\u001b[0m\n\u001b[0;31m    ngos_ingested = ngos[ngos[ngos\"ingested?\"]==\"yes\"]\u001b[0m\n\u001b[0m                                            ^\u001b[0m\n\u001b[0;31mSyntaxError\u001b[0m\u001b[0;31m:\u001b[0m invalid syntax\n"
     ]
    }
   ],
   "source": [
    "ngos_ingested = ngos[ngos\"Ingested\"]==\"yes\"]"
   ]
  },
  {
   "cell_type": "code",
   "execution_count": null,
   "metadata": {
    "collapsed": true
   },
   "outputs": [],
   "source": []
  }
 ],
 "metadata": {
  "kernelspec": {
   "display_name": "Python 2",
   "language": "python",
   "name": "python2"
  },
  "language_info": {
   "codemirror_mode": {
    "name": "ipython",
    "version": 2
   },
   "file_extension": ".py",
   "mimetype": "text/x-python",
   "name": "python",
   "nbconvert_exporter": "python",
   "pygments_lexer": "ipython2",
   "version": "2.7.10"
  }
 },
 "nbformat": 4,
 "nbformat_minor": 0
}
