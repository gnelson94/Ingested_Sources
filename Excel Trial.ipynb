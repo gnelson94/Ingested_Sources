{
 "cells": [
  {
   "cell_type": "code",
   "execution_count": 1,
   "metadata": {
    "collapsed": true
   },
   "outputs": [],
   "source": [
    "import pandas as pd"
   ]
  },
  {
   "cell_type": "code",
   "execution_count": 2,
   "metadata": {
    "collapsed": true
   },
   "outputs": [],
   "source": [
    "mfile = pd.ExcelFile(\"Master List v2.xlsx\")"
   ]
  },
  {
   "cell_type": "code",
   "execution_count": 9,
   "metadata": {
    "collapsed": false
   },
   "outputs": [
    {
     "data": {
      "text/plain": [
       "['dre', 'd', 'TTT', '45']"
      ]
     },
     "execution_count": 9,
     "metadata": {},
     "output_type": "execute_result"
    }
   ],
   "source": [
    "[\"dre\",'d',\"TTT\"] + [\"45\"]"
   ]
  },
  {
   "cell_type": "code",
   "execution_count": 3,
   "metadata": {
    "collapsed": false
   },
   "outputs": [
    {
     "data": {
      "text/plain": [
       "[u'Feeds - June.26.csv',\n",
       " u'Suggested (Phil)',\n",
       " u'NGOs & Other Sources',\n",
       " u'governmental',\n",
       " u'business',\n",
       " u'News Outlets',\n",
       " u\"Graham's Supply Chain Sources\",\n",
       " u'industry',\n",
       " u'academic']"
      ]
     },
     "execution_count": 3,
     "metadata": {},
     "output_type": "execute_result"
    }
   ],
   "source": [
    "mfile.sheet_names"
   ]
  },
  {
   "cell_type": "code",
   "execution_count": 4,
   "metadata": {
    "collapsed": true
   },
   "outputs": [],
   "source": [
    "academic = mfile.parse(\"academic\")"
   ]
  },
  {
   "cell_type": "code",
   "execution_count": 12,
   "metadata": {
    "collapsed": false
   },
   "outputs": [],
   "source": [
    "ngos = mfile.parse(mfile.sheet_names[2])"
   ]
  },
  {
   "cell_type": "code",
   "execution_count": 5,
   "metadata": {
    "collapsed": false
   },
   "outputs": [
    {
     "data": {
      "text/html": [
       "<div style=\"max-height:1000px;max-width:1500px;overflow:auto;\">\n",
       "<table border=\"1\" class=\"dataframe\">\n",
       "  <thead>\n",
       "    <tr style=\"text-align: right;\">\n",
       "      <th></th>\n",
       "      <th>Source</th>\n",
       "      <th>Ingested</th>\n",
       "      <th>Information type</th>\n",
       "      <th>RSS</th>\n",
       "      <th>Notes on RRS</th>\n",
       "      <th>Source type</th>\n",
       "      <th>Coverage</th>\n",
       "      <th>Relevance</th>\n",
       "      <th>Notes on relevance</th>\n",
       "      <th>C</th>\n",
       "      <th>...</th>\n",
       "      <th>R</th>\n",
       "      <th>T</th>\n",
       "      <th>Updates</th>\n",
       "      <th>H</th>\n",
       "      <th>Notes</th>\n",
       "      <th>S</th>\n",
       "      <th>Notes.1</th>\n",
       "      <th>Category</th>\n",
       "      <th>Link</th>\n",
       "      <th>Example of relevant news </th>\n",
       "    </tr>\n",
       "  </thead>\n",
       "  <tbody>\n",
       "    <tr>\n",
       "      <th>0</th>\n",
       "      <td> Boston college center for corporate citizenship</td>\n",
       "      <td> No</td>\n",
       "      <td> Blog posts</td>\n",
       "      <td>NaN</td>\n",
       "      <td>NaN</td>\n",
       "      <td> University center</td>\n",
       "      <td>NaN</td>\n",
       "      <td> 3</td>\n",
       "      <td>NaN</td>\n",
       "      <td>NaN</td>\n",
       "      <td>...</td>\n",
       "      <td>NaN</td>\n",
       "      <td>NaN</td>\n",
       "      <td> Daily</td>\n",
       "      <td>NaN</td>\n",
       "      <td>NaN</td>\n",
       "      <td>NaN</td>\n",
       "      <td>NaN</td>\n",
       "      <td> Various</td>\n",
       "      <td> http://corporatecitizenship.bc.edu/</td>\n",
       "      <td>NaN</td>\n",
       "    </tr>\n",
       "  </tbody>\n",
       "</table>\n",
       "<p>1 rows × 21 columns</p>\n",
       "</div>"
      ],
      "text/plain": [
       "                                            Source Ingested Information type  \\\n",
       "0  Boston college center for corporate citizenship       No       Blog posts   \n",
       "\n",
       "   RSS  Notes on RRS        Source type  Coverage  Relevance  \\\n",
       "0  NaN           NaN  University center       NaN          3   \n",
       "\n",
       "   Notes on relevance   C            ...              R   T  Updates   H  \\\n",
       "0                 NaN NaN            ...            NaN NaN    Daily NaN   \n",
       "\n",
       "   Notes   S  Notes.1  Category                                 Link  \\\n",
       "0    NaN NaN      NaN   Various  http://corporatecitizenship.bc.edu/   \n",
       "\n",
       "  Example of relevant news   \n",
       "0                       NaN  \n",
       "\n",
       "[1 rows x 21 columns]"
      ]
     },
     "execution_count": 5,
     "metadata": {},
     "output_type": "execute_result"
    }
   ],
   "source": [
    "academic.head()"
   ]
  },
  {
   "cell_type": "code",
   "execution_count": 14,
   "metadata": {
    "collapsed": false
   },
   "outputs": [],
   "source": [
    "ngos_ingested = ngos[ngos[\"ingested?\"]==\"yes\"]"
   ]
  },
  {
   "cell_type": "code",
   "execution_count": 16,
   "metadata": {
    "collapsed": false
   },
   "outputs": [
    {
     "data": {
      "text/plain": [
       "13"
      ]
     },
     "execution_count": 16,
     "metadata": {},
     "output_type": "execute_result"
    }
   ],
   "source": [
    "len(ngos_ingested)"
   ]
  },
  {
   "cell_type": "code",
   "execution_count": 18,
   "metadata": {
    "collapsed": false
   },
   "outputs": [],
   "source": [
    "ngos_ingested.to_csv(\"ingested_ngos.csv\")"
   ]
  },
  {
   "cell_type": "code",
   "execution_count": null,
   "metadata": {
    "collapsed": true
   },
   "outputs": [],
   "source": []
  }
 ],
 "metadata": {
  "kernelspec": {
   "display_name": "Python 2",
   "language": "python",
   "name": "python2"
  },
  "language_info": {
   "codemirror_mode": {
    "name": "ipython",
    "version": 2
   },
   "file_extension": ".py",
   "mimetype": "text/x-python",
   "name": "python",
   "nbconvert_exporter": "python",
   "pygments_lexer": "ipython2",
   "version": "2.7.10"
  }
 },
 "nbformat": 4,
 "nbformat_minor": 0
}
